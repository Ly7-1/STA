{
 "cells": [
  {
   "cell_type": "markdown",
   "id": "978d15e8",
   "metadata": {},
   "source": [
    "The standard deviation is how spread of dataset. Measuring data that deviate from mean.\n",
    "Standard error of the mean is when random sampling, the mean is different from the oringin mean.\n",
    "The different between is that the SD is not depend on the data size, but when data size increase SEM will decrease. Because more trail or samples will affect higer precison of mean. So the differ will be decrease."
   ]
  },
  {
   "cell_type": "markdown",
   "id": "ebca5052",
   "metadata": {},
   "source": [
    "In summary of our conversation:\n",
    "\n",
    "We discussed bootstrapping, a non-parametric method that involves resampling with replacement from the original data to estimate the distribution of a statistic. Bootstrapping is useful for calculating standard errors and constructing confidence intervals, especially in situations with small sample sizes or unknown distributions.\n",
    "\n",
    "You also asked about the difference between the standard error of the mean (SEM) and the standard deviation (SD). The standard deviation measures the spread or dispersion of the data, while the standard error reflects how precise the sample mean is as an estimate of the population mean. SEM depends on the sample size, decreasing as the sample size increases, indicating greater precision in the estimate.https://chatgpt.com/share/66ff5098-a434-8009-94e2-04fc2073e9c0"
   ]
  },
  {
   "cell_type": "markdown",
   "id": "c0f14dfb",
   "metadata": {},
   "source": [
    "First step of bootstrapping is looking at origin dataset to find out what sample you want to bootstrapping. Secondly, picking up new sample from original dataset. Sometime it might choose the same onew. Then repeat to choose many times(1000 times). And then calculate the mean of each sample set. Finally, you will know that how much differ if you repeat process to get the data.\n",
    "\n",
    "The purpose of bootstrapping is to calculate the average change after repeat experiment many times. ALso find Confidence intervals.If the experiment is hard to get more data, you use this way to test the reliability of calculation and get more information without doing more trails of experiment.\n",
    "\n",
    "First to set the guess, calculate average mean in the origin dataset is Y. Then randomly draw samples from origin sample in more than 1000 times.FInally you will get the distribution of 1000 or more means. The mean is differs from oringin mean. Using confidence interval to check the hypothesis. If the hypothesis mean is inside of 95% confidence interval ,it is more likely reliable or correct. But if it is out of 95%, so it is less likely reliable or correct."
   ]
  },
  {
   "cell_type": "code",
   "execution_count": 2,
   "id": "c1ec1f6d",
   "metadata": {},
   "outputs": [
    {
     "data": {
      "text/plain": [
       "(3.3, 3.2713, array([0.9   , 5.5025]), 2.5900615612703937, 0.02921052381549256)"
      ]
     },
     "execution_count": 2,
     "metadata": {},
     "output_type": "execute_result"
    }
   ],
   "source": [
    "import pandas as pd\n",
    "import numpy as np\n",
    "from scipy.stats import ttest_rel\n",
    "\n",
    "# Step 1: Create the dataset\n",
    "data = {\n",
    "    \"PatientID\": [1, 2, 3, 4, 5, 6, 7, 8, 9, 10],\n",
    "    \"Age\": [45, 34, 29, 52, 37, 41, 33, 48, 26, 39],\n",
    "    \"Gender\": ['M', 'F', 'M', 'F', 'M', 'F', 'M', 'F', 'M', 'F'],\n",
    "    \"InitialHealthScore\": [84, 78, 83, 81, 81, 80, 79, 85, 76, 83],\n",
    "    \"FinalHealthScore\": [86, 86, 80, 86, 84, 86, 86, 82, 83, 84]\n",
    "}\n",
    "\n",
    "df = pd.DataFrame(data)\n",
    "\n",
    "# Step 2: Calculate the mean difference in health scores\n",
    "def calculate_mean_difference(df):\n",
    "    return np.mean(df['FinalHealthScore'] - df['InitialHealthScore'])\n",
    "\n",
    "# Step 3: Perform bootstrapping\n",
    "n_iterations = 1000\n",
    "bootstrap_means = []\n",
    "\n",
    "for _ in range(n_iterations):\n",
    "    # Create a bootstrap sample (sample with replacement)\n",
    "    bootstrap_sample = df.sample(n=len(df), replace=True)\n",
    "    # Calculate the mean difference for the bootstrap sample\n",
    "    bootstrap_mean_diff = calculate_mean_difference(bootstrap_sample)\n",
    "    bootstrap_means.append(bootstrap_mean_diff)\n",
    "\n",
    "# Step 4: Calculate the 95% confidence interval from the bootstrap samples\n",
    "confidence_interval = np.percentile(bootstrap_means, [2.5, 97.5])\n",
    "\n",
    "# Step 5: Perform a paired t-test\n",
    "t_statistic, p_value = ttest_rel(df['FinalHealthScore'], df['InitialHealthScore'])\n",
    "\n",
    "# Step 6: Display the results\n",
    "actual_mean_difference = calculate_mean_difference(df)\n",
    "bootstrap_mean = np.mean(bootstrap_means)\n",
    "bootstrap_confidence_interval = confidence_interval\n",
    "\n",
    "# Output the results\n",
    "actual_mean_difference, bootstrap_mean, bootstrap_confidence_interval, t_statistic, p_value\n"
   ]
  },
  {
   "cell_type": "markdown",
   "id": "a141ff82",
   "metadata": {},
   "source": [
    "PatientID,Age,Gender,InitialHealthScore,FinalHealthScore\n",
    "1,45,M,84,86\n",
    "2,34,F,78,86\n",
    "3,29,M,83,80\n",
    "4,52,F,81,86\n",
    "5,37,M,81,84\n",
    "6,41,F,80,86\n",
    "7,33,M,79,86\n",
    "8,48,F,85,82\n",
    "9,26,M,76,83\n",
    "10,39,F,83,84\n",
    "We are testing our vaccine wether or not is effective. Then volunteers in different ages are calculated their healthscore before and after take vaccine. As shown in the dataset, before I calculated I can observe that most of people have higher score after take vaccine, so I suppose it is effective and using code to test it.\n",
    "I using bootstrapping to add more samples. Then calculate the information I needed and compare with oringal dataset.\n",
    "congratulation, the vaccine is effective. Since the actual mean difference is within the confidence interval. And the actual mean difference is similiar with bootstrap mean.\n",
    "In the code first intoduce the dataset. And calculate the actual mean difference of health scores. Then use bootstrapping to replace more samples. Calculate the 95% confidence interval which is 2.5 percentail to 97.5 percentail. Finally, compare the result of actual mean differece and bootstrap mean and confidence interval. The actual mean value gives 3.3 and bootstrap mean gives 3.2713 which is very similiar. And 3.3 is in the range of 95% confidence interval which is from 0.9 to 5.5025. \n",
    "However, healthcare is a serious process. I think the process have some point to improve. Firstly, we have to test ten volunteer after several days to see long term influence. Secondly, the experiment should have different age group and each group hire more volunteer to calculate separatly. Observing the vaccine affected each different age group will be more insured.\n",
    "Overall, the first trail of experiment shows our vaccine is effective which is the first success for our company."
   ]
  },
  {
   "cell_type": "markdown",
   "id": "701fc1c1",
   "metadata": {},
   "source": [
    "\n",
    "In our conversation, we explored how to use bootstrapping and statistical testing to assess the effectiveness of a vaccine based on health scores before and after vaccination. Here's the summary:\n",
    "\n",
    "Dataset Overview: You provided a dataset with patients' initial and final health scores before and after receiving the vaccine.\n",
    "\n",
    "Bootstrapping: We used bootstrapping to generate multiple samples from the original data and calculate the mean difference in health scores. The bootstrap mean was 3.28, and the 95% confidence interval ranged from 0.9 to 5.5 points. The fact that this interval does not include zero suggests that the vaccine likely had a positive effect.\n",
    "\n",
    "Paired T-Test: We performed a paired t-test, yielding a t-statistic of 2.59 and a p-value of 0.029. Since the p-value was less than 0.05, this indicates a statistically significant improvement in health scores after taking the vaccine.\n",
    "\n",
    "Effectiveness Conclusion: The actual mean difference of 3.3 points was within the bootstrap confidence interval and was very close to the bootstrap mean. This consistency, along with the t-test results, strongly supports the conclusion that the vaccine is effective in improving health scores.\n",
    "\n",
    "In summary, both bootstrapping and the t-test suggest that the vaccine had a statistically significant and positive effect on the patients' health.\n",
    "https://chatgpt.com/share/66ff50ea-6d30-8009-af4b-e974c1e97f46"
   ]
  }
 ],
 "metadata": {
  "kernelspec": {
   "display_name": "Python 3 (ipykernel)",
   "language": "python",
   "name": "python3"
  },
  "language_info": {
   "codemirror_mode": {
    "name": "ipython",
    "version": 3
   },
   "file_extension": ".py",
   "mimetype": "text/x-python",
   "name": "python",
   "nbconvert_exporter": "python",
   "pygments_lexer": "ipython3",
   "version": "3.11.6"
  }
 },
 "nbformat": 4,
 "nbformat_minor": 5
}
