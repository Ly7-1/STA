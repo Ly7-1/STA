{
 "cells": [
  {
   "cell_type": "code",
   "execution_count": 2,
   "id": "36fdf610",
   "metadata": {},
   "outputs": [
    {
     "name": "stdout",
     "output_type": "stream",
     "text": [
      "0.66751\n"
     ]
    }
   ],
   "source": [
    "import numpy as np # Import numpy library\n",
    "\n",
    "all_door_options = [1, 2, 3]  # List of three doors\n",
    "wins = 0  # To count how many times you win\n",
    "reps = 100000  # Number of repetitions\n",
    "\n",
    "for _ in range(reps):\n",
    "    # Randomly pick a winning door (the door hiding the car)\n",
    "    winning_door = np.random.choice(all_door_options)\n",
    "    \n",
    "    # You always start by choosing door 1\n",
    "    my_choice = 1\n",
    "    \n",
    "    # Monty reveals a door with a goat (not your choice, and not the winning door)\n",
    "    revealed_goat = np.random.choice([door for door in all_door_options if door != my_choice and door != winning_door])\n",
    "    \n",
    "    # You switch to the other unopened door\n",
    "    new_choice = [door for door in all_door_options if door != my_choice and door != revealed_goat][0]\n",
    "    \n",
    "    # Check if you win by switching\n",
    "    if new_choice == winning_door:\n",
    "        wins += 1\n",
    "\n",
    "# Calculate the proportion of times you won by switching\n",
    "win_probability = wins / reps\n",
    "print(win_probability)"
   ]
  },
  {
   "cell_type": "markdown",
   "id": "17735936",
   "metadata": {},
   "source": [
    "This is the code that chatrobot provided to me.\n",
    "First code imported numpy library.\n",
    "Following is how to setup variable\n",
    "all_door_options = [1, 2, 3] : Three different doors\n",
    "wins = 0 # how many time can win\n",
    "reps = 100000 #repeat 100000 times\n",
    "for _ in range(reps): \"_\" is variable in the loop that runs reps(100000) times.\n",
    "winning_door = np.random.choice(all_door_options) winning door means at each reps, the 1,2,3 door are randomly to chose to hide the car.\n",
    "my_choice is the initial choice that played did in every trails.\n",
    "Revealed_goat.the host reveal a door that behind goat  (door != my_choice): Not my first choice  (door != winning_door) : Not the winning door.\n",
    "New_choice: second choice after revealed one goat behind door. [door for door in all_door_options if door != my_choice and door != revealed_goat] using the probebility, the second choice is neither the initial choice and door revealed before, so only one door left.Which is new_door\n",
    "So other door is 0 only new_door is one. Checking if I in the game, when new_choice is matching with winning_door\n",
    "wins/reps is haw many times win divided by the total loop which difined as variable win_probability.\n",
    "https://chatgpt.com/share/66ec6cd7-c748-8009-b170-85a1c6c7f21c\n",
    "Summary\n",
    "The problem involves choosing one of three doors, with a car behind one and goats behind the others.\n",
    "After choosing a door, Monty reveals a goat behind one of the remaining doors.\n",
    "The simulation shows that switching doors gives you a better chance (about 66.67%) of winning the car.\n",
    "I explained both the complex and simplified versions of the simulation code, helping you understand how the logic flows and why switching doors is the best strategy."
   ]
  },
  {
   "cell_type": "markdown",
   "id": "db9c9c3e",
   "metadata": {},
   "source": [
    "https://chatgpt.com/share/66ecad85-5b38-8009-bd8b-363c18219651  （Q4-Q5-1,2）\n",
    "summary\n",
    "We started with a simple Markov chain chatbot that generates text based on single-word transitions. It tracked how often each word followed another word in a corpus, building a probability model to predict the next word.\n",
    "Extension #1: Bigram Model:\n",
    "\n",
    "The chatbot was extended to use bigrams (pairs of consecutive words) instead of single words, improving the context and accuracy of word predictions. By considering two words together, this version captured more coherent word sequences.\n",
    "Extension #2: Character-Specific Word Patterns:\n",
    "\n",
    "In the final extension, we introduced character-based modeling by associating word sequences with specific characters in a dataset. This allowed the chatbot to learn how different characters speak and respond, storing word transitions and patterns for each character independently. This version made the chatbot capable of generating more realistic, character-specific dialogue.\n",
    "These extensions progressively enhanced the complexity and realism of the chatbot, transitioning from basic word prediction to more nuanced character-specific dialogue generation. The final model is useful in situations where diverse personas or characters need to be represented, like in dialogue systems for games, movies, or multi-character chatbots."
   ]
  },
  {
   "cell_type": "markdown",
   "id": "5959066f",
   "metadata": {},
   "source": [
    "https://chatgpt.com/share/66ecb397-7a64-8009-8a51-ff9c76fb3dfd\n",
    "\n",
    "To summarize, we explored a Markovian chatbot implementation, starting with a basic version that tracks individual word transitions and then extending it to handle bigrams (word pairs) and trigrams (sequences of three words), while incorporating context based on different characters. This advanced model allows the chatbot to predict the next word based on richer context (two preceding words) and generate text that mimics the unique speech patterns of different characters in a dataset.\n",
    "\n",
    "This approach helps create more contextually relevant and coherent text, especially in dialogue systems where character-specific language is important.\n",
    "\n"
   ]
  },
  {
   "cell_type": "markdown",
   "id": "49da5c6d",
   "metadata": {},
   "source": [
    "I think the response time of chatbot was fast. In a minute's time it can give me a lot of code and detailed explanations of what I want.\n",
    "\n",
    "I'm happy I can use chatbot to handle these tasks. If there is no chatbot then the basic requirement for statistics should be a high level of programming. However I am just new to programming, but I can use chatbot to help me solve problems that I wouldn't be able to right now. I can use chatbot to help me solve the problems that I don't know now, and I can ask chatbot to help me solve the problems that I don't understand in lecture.\n",
    "\n",
    "Chatbot is great, it's so powerful. When I was in high school in China, I heard about chatbot's amazing abilities. And many people recommended that I could learn to use this tool.Indeed chatbot handles statistics and programming it can be very precise about what I want. And gives me very detailed answers. It saves a lot of time. But while I was using it for my statistics homework, I realized a serious problem. I relied on it too much. It seriously affected my desire to read knowledge. Because there are some problems that I need to watch textbooks or instructional videos on the internet over and over again before I can understand them, but chatbot can do it for me straight away, with just a very common command from me. All in all, there is no doubt about its capability. But I think it's better not to rely on it too much."
   ]
  },
  {
   "cell_type": "markdown",
   "id": "7c017ab2",
   "metadata": {},
   "source": [
    "I had barely used chatbot before I took this class in statistics. when I first started this class the professor had us use chatbot. i had some questions about chatbot because before I didn't even know that it could help you with so much of the code in the assignment. It's definitely a great tool for a new programmer. The first time I used chatbot in statistics was in the first tutorial. the TA and the classmates next to me showed me how I could get chatbot to help me find a satisfactory answer to my question. Later on in the lecture, the professor talked about a lot of codes and functions that I haven't learn before, and since English is my second language, I didn't keep up with the teacher's progress in the class. So I would give my questions to the chatbot, which was very important to me in the lecture."
   ]
  },
  {
   "cell_type": "markdown",
   "id": "21ca07a1",
   "metadata": {},
   "source": [
    "https://chatgpt.com/share/66ecb627-d518-8009-8f3e-8fd0240335e8\n",
    "In our conversation, we discussed the importance of coding, data analysis, communication, and adaptability in the workplace. You asked whether coding and statistics are essential for working in the data science industry if you're not strong in those areas.\n",
    "\n",
    "Key points:\n",
    "\n",
    "Coding and statistics are important in many data science roles, but there are non-technical roles within the field, such as data visualization, business analysis, or product management, that don't require deep expertise in those areas.\n",
    "You can use low-code/no-code tools and focus on areas like data visualization, data governance, or business intelligence, which rely more on domain expertise and communication skills.\n",
    "To increase your long-term potential in data science, it's beneficial to gradually improve your coding and statistical skills using beginner-friendly tools and resources.\n",
    "Ultimately, a mix of technical skills and soft skills (communication, adaptability) will allow you to thrive in the data science industry, especially if you're working closely with technical teams."
   ]
  }
 ],
 "metadata": {
  "kernelspec": {
   "display_name": "Python 3 (ipykernel)",
   "language": "python",
   "name": "python3"
  },
  "language_info": {
   "codemirror_mode": {
    "name": "ipython",
    "version": 3
   },
   "file_extension": ".py",
   "mimetype": "text/x-python",
   "name": "python",
   "nbconvert_exporter": "python",
   "pygments_lexer": "ipython3",
   "version": "3.11.6"
  }
 },
 "nbformat": 4,
 "nbformat_minor": 5
}
