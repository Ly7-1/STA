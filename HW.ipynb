{
 "cells": [
  {
   "cell_type": "code",
   "execution_count": 6,
   "id": "9de27f88",
   "metadata": {
    "scrolled": true
   },
   "outputs": [
    {
     "name": "stdout",
     "output_type": "stream",
     "text": [
      "Data Summary:\n",
      "Number of Rows: 391\n",
      "Number of Columns: 11\n",
      "Missing Values: {'row_n': 0, 'id': 1, 'name': 0, 'gender': 0, 'species': 0, 'birthday': 0, 'personality': 0, 'song': 11, 'phrase': 0, 'full_id': 0, 'url': 0}\n",
      "Unique Values: {'id': 390, 'name': 391, 'gender': 2, 'species': 35, 'birthday': 361, 'personality': 8, 'song': 92, 'phrase': 388, 'full_id': 391, 'url': 391}\n",
      "Preview of the dataset:\n",
      "   row_n       id     name  gender    species birthday personality  \\\n",
      "0      2  admiral  Admiral    male       bird     1-27      cranky   \n",
      "1      3  agent-s  Agent S  female   squirrel      7-2       peppy   \n",
      "2      4    agnes    Agnes  female        pig     4-21        uchi   \n",
      "3      6       al       Al    male    gorilla    10-18        lazy   \n",
      "4      7  alfonso  Alfonso    male  alligator      6-9        lazy   \n",
      "\n",
      "          song    phrase           full_id  \\\n",
      "0   Steep Hill   aye aye  villager-admiral   \n",
      "1      DJ K.K.  sidekick  villager-agent-s   \n",
      "2   K.K. House   snuffle    villager-agnes   \n",
      "3   Steep Hill   Ayyeeee       villager-al   \n",
      "4  Forest Life  it'sa me  villager-alfonso   \n",
      "\n",
      "                                                 url  \n",
      "0  https://villagerdb.com/images/villagers/thumb/...  \n",
      "1  https://villagerdb.com/images/villagers/thumb/...  \n",
      "2  https://villagerdb.com/images/villagers/thumb/...  \n",
      "3  https://villagerdb.com/images/villagers/thumb/...  \n",
      "4  https://villagerdb.com/images/villagers/thumb/...  \n"
     ]
    }
   ],
   "source": [
    "import pandas as pd\n",
    "\n",
    "url = \"https://raw.githubusercontent.com/rfordatascience/tidytuesday/master/data/2020/2020-05-05/villagers.csv\"\n",
    "df = pd.read_csv(url)\n",
    "summary = {\n",
    "    \"Number of Rows\": df.shape[0],\n",
    "    \"Number of Columns\": df.shape[1],\n",
    "    \"Missing Values\": df.isna().sum().to_dict(),\n",
    "    \"Unique Values\": {column: df[column].nunique() for column in df.select_dtypes(include=['object']).columns},\n",
    "    \"Preview\": df.head().to_dict(orient='records')\n",
    "}\n",
    "print(\"Data Summary:\")\n",
    "print(f\"Number of Rows: {summary['Number of Rows']}\")\n",
    "print(f\"Number of Columns: {summary['Number of Columns']}\")\n",
    "print(\"Missing Values:\", summary['Missing Values'])\n",
    "print(\"Unique Values:\", summary['Unique Values'])\n",
    "print(\"Preview of the dataset:\")\n",
    "print(pd.DataFrame(summary['Preview']))\n"
   ]
  },
  {
   "cell_type": "markdown",
   "id": "eef51749",
   "metadata": {},
   "source": [
    "Get the number of rows and columns of dataset.num_columns and num_rows are variables. decription basic information, missing value and unique value"
   ]
  },
  {
   "cell_type": "markdown",
   "id": "c355af2b",
   "metadata": {},
   "source": [
    "Attribute like df.shape is an unchaged charateristics of an object, and show answer whithout culculation"
   ]
  },
  {
   "cell_type": "markdown",
   "id": "14cec28c",
   "metadata": {},
   "source": [
    "Method like df.describe() is a function.That represent the processing of data. The end of () represent the processing situation that retuen a result based on the current task."
   ]
  },
  {
   "cell_type": "markdown",
   "id": "e8c78651",
   "metadata": {},
   "source": [
    "Count: the number of non missing data in each number columns\n",
    "Mean: the average value in each column\n",
    "std: standard deviation, how data are spread out\n",
    "Min: minimum value in each number column\n",
    "25%: first quartile, value that 25% below\n",
    "50% meddian\n",
    "75%: third quartile, value that 75% below."
   ]
  },
  {
   "cell_type": "code",
   "execution_count": null,
   "id": "2ba6692f",
   "metadata": {},
   "outputs": [],
   "source": [
    "clean_df = df.dropna()\n",
    "clean_df = df.dropna(subset=['column1', 'column2'])"
   ]
  },
  {
   "cell_type": "markdown",
   "id": "ffd14fd2",
   "metadata": {},
   "source": [
    "This method is able to clean the row or colume that have missing data. "
   ]
  },
  {
   "cell_type": "code",
   "execution_count": null,
   "id": "3d2b987a",
   "metadata": {},
   "outputs": [],
   "source": [
    "del df['unnecessary_column']"
   ]
  },
  {
   "cell_type": "markdown",
   "id": "feb9d271",
   "metadata": {},
   "source": [
    "This can delete entire column, using when a column contain high percentage of missing value."
   ]
  },
  {
   "cell_type": "code",
   "execution_count": 9,
   "id": "0786142b",
   "metadata": {},
   "outputs": [
    {
     "data": {
      "text/plain": [
       "(A                     1\n",
       " B                     1\n",
       " C                     2\n",
       " unnecessary_column    3\n",
       " dtype: int64,\n",
       "      A    B    C  unnecessary_column\n",
       " 3  4.0  4.0  4.0                 4.0,\n",
       "      A    B    C\n",
       " 0  1.0  NaN  1.0\n",
       " 1  2.0  2.0  NaN\n",
       " 2  NaN  3.0  NaN\n",
       " 3  4.0  4.0  4.0)"
      ]
     },
     "execution_count": 9,
     "metadata": {},
     "output_type": "execute_result"
    }
   ],
   "source": [
    "import pandas as pd\n",
    "\n",
    "# Load a sample dataset for demonstration (since I cannot access external files)\n",
    "# Let's create a sample DataFrame with missing values instead of loading a CSV\n",
    "data = {\n",
    "    'A': [1, 2, None, 4],\n",
    "    'B': [None, 2, 3, 4],\n",
    "    'C': [1, None, None, 4],\n",
    "    'unnecessary_column': [None, None, None, 4]\n",
    "}\n",
    "\n",
    "df = pd.DataFrame(data)\n",
    "\n",
    "# Assess missing values\n",
    "missing_values = df.isnull().sum()\n",
    "\n",
    "# Drop rows with any missing values\n",
    "cleaned_df = df.dropna()\n",
    "\n",
    "# Delete a column with significant missing values\n",
    "if df['unnecessary_column'].isnull().mean() > 0.5:  # example threshold\n",
    "    df.drop(columns=['unnecessary_column'], inplace=True)  # Use drop method for deletion\n",
    "\n",
    "# Results\n",
    "missing_values, cleaned_df, df  # Return the missing values, cleaned DataFrame, and modified original DataFrame for inspection."
   ]
  },
  {
   "cell_type": "code",
   "execution_count": 14,
   "id": "faca9474",
   "metadata": {},
   "outputs": [
    {
     "data": {
      "text/plain": [
       "(SurveyID             0\n",
       " Respondent           0\n",
       " Age                  2\n",
       " SatisfactionScore    1\n",
       " Comments             2\n",
       " dtype: int64,\n",
       " SurveyID             0\n",
       " Respondent           0\n",
       " Age                  0\n",
       " SatisfactionScore    0\n",
       " Comments             0\n",
       " dtype: int64,\n",
       "    SurveyID Respondent   Age  SatisfactionScore      Comments\n",
       " 0         1      Alice  25.0                5.0  Good service)"
      ]
     },
     "execution_count": 14,
     "metadata": {},
     "output_type": "execute_result"
    }
   ],
   "source": [
    "import pandas as pd\n",
    "\n",
    "# Sample DataFrame representing some data with missing values\n",
    "data = {\n",
    "    'SurveyID': [1, 2, 3, 4, 5],\n",
    "    'Respondent': ['Alice', 'Bob', 'Charlie', 'David', 'Eva'],\n",
    "    'Age': [25, None, 30, 22, None],\n",
    "    'SatisfactionScore': [5, 4, None, 2, 3],\n",
    "    'Comments': ['Good service', None, 'Average experience', None, 'Excellent']\n",
    "}\n",
    "\n",
    "df = pd.DataFrame(data)\n",
    "\n",
    "# Assess missing values before using dropna\n",
    "missing_values_before = df.isnull().sum()\n",
    "\n",
    "# Use df.dropna() to drop rows with any missing values\n",
    "cleaned_df = df.dropna()\n",
    "\n",
    "# Assess missing values after using dropna\n",
    "missing_values_after = cleaned_df.isnull().sum()\n",
    "\n",
    "# Display results\n",
    "missing_values_before, missing_values_after, cleaned_df  # Show the results before and after using dropna"
   ]
  },
  {
   "cell_type": "markdown",
   "id": "56799600",
   "metadata": {},
   "source": [
    "This is an example that the case using df.dropna() might be preferred over using del df['col']"
   ]
  },
  {
   "cell_type": "code",
   "execution_count": 13,
   "id": "577e32b6",
   "metadata": {},
   "outputs": [
    {
     "data": {
      "text/plain": [
       "(ProductID      0\n",
       " ProductName    0\n",
       " Price          2\n",
       " Stock          2\n",
       " Description    5\n",
       " dtype: int64,\n",
       " ProductID      0\n",
       " ProductName    0\n",
       " Price          2\n",
       " Stock          2\n",
       " dtype: int64,\n",
       "    ProductID ProductName  Price  Stock\n",
       " 0          1           A  10.99  100.0\n",
       " 1          2           B    NaN  200.0\n",
       " 2          3           C  15.99    NaN\n",
       " 3          4           D    NaN    NaN\n",
       " 4          5           E  20.99  150.0)"
      ]
     },
     "execution_count": 13,
     "metadata": {},
     "output_type": "execute_result"
    }
   ],
   "source": [
    "import pandas as pd\n",
    "\n",
    "# Sample DataFrame representing some data with missing values\n",
    "data = {\n",
    "    'ProductID': [1, 2, 3, 4, 5],\n",
    "    'ProductName': ['A', 'B', 'C', 'D', 'E'],\n",
    "    'Price': [10.99, None, 15.99, None, 20.99],\n",
    "    'Stock': [100, 200, None, None, 150],\n",
    "    'Description': [None, None, None, None, None]  # Column with all missing values\n",
    "}\n",
    "\n",
    "df = pd.DataFrame(data)\n",
    "\n",
    "# Assess missing values\n",
    "missing_values_before = df.isnull().sum()\n",
    "\n",
    "# Use del to remove the 'Description' column which is not useful\n",
    "del df['Description']\n",
    "\n",
    "# Assess missing values after deletion\n",
    "missing_values_after = df.isnull().sum()\n",
    "\n",
    "missing_values_before, missing_values_after, df  # Show the results before and after deletion."
   ]
  },
  {
   "cell_type": "markdown",
   "id": "d89c4822",
   "metadata": {},
   "source": [
    "This is a example that the case using del df['col'] might be preferred over using df.dropna()"
   ]
  },
  {
   "cell_type": "code",
   "execution_count": 18,
   "id": "5aacd423",
   "metadata": {},
   "outputs": [
    {
     "data": {
      "text/plain": [
       "(   SurveyID Respondent   Age  SatisfactionScore\n",
       " 0         1      Alice  25.0                5.0\n",
       " 3         4      David  22.0                2.0,\n",
       " SurveyID             0\n",
       " Respondent           0\n",
       " Age                  2\n",
       " SatisfactionScore    1\n",
       " dtype: int64)"
      ]
     },
     "execution_count": 18,
     "metadata": {},
     "output_type": "execute_result"
    }
   ],
   "source": [
    "import pandas as pd\n",
    "\n",
    "# Sample DataFrame representing survey responses with some missing values\n",
    "data = {\n",
    "    'SurveyID': [1, 2, 3, 4, 5],\n",
    "    'Respondent': ['Alice', 'Bob', 'Charlie', 'David', 'Eva'],\n",
    "    'Age': [25, None, 30, 22, None],\n",
    "    'SatisfactionScore': [5, 4, None, 2, 3],\n",
    "    'Comments': [None, None, None, None, None]  # All values are missing\n",
    "}\n",
    "\n",
    "df = pd.DataFrame(data)\n",
    "\n",
    "# Step 1: Remove the 'Comments' column first\n",
    "del df['Comments']\n",
    "\n",
    "# Step 2: Then drop rows with any missing values\n",
    "cleaned_df = df.dropna()\n",
    "\n",
    "# Show results before and after cleaning\n",
    "missing_values_before = df.isnull().sum()\n",
    "cleaned_df, missing_values_before  # Display the cleaned DataFrame and the missing values before cleaning.\n"
   ]
  },
  {
   "cell_type": "markdown",
   "id": "7ce192d6",
   "metadata": {},
   "source": [
    "This is the examle of using df.dropna() after del df['col']\n",
    "It will improve the quality of data, enhence efficiency, centrally focused on valid data, and clear to understand."
   ]
  },
  {
   "cell_type": "code",
   "execution_count": 19,
   "id": "c0855e66",
   "metadata": {},
   "outputs": [
    {
     "data": {
      "text/plain": [
       "(SurveyID             0\n",
       " Respondent           0\n",
       " Age                  2\n",
       " SatisfactionScore    1\n",
       " Comments             5\n",
       " dtype: int64,\n",
       "    SurveyID Respondent   Age  SatisfactionScore\n",
       " 0         1      Alice  25.0                5.0\n",
       " 3         4      David  22.0                2.0,\n",
       " SurveyID             0\n",
       " Respondent           0\n",
       " Age                  0\n",
       " SatisfactionScore    0\n",
       " dtype: int64)"
      ]
     },
     "execution_count": 19,
     "metadata": {},
     "output_type": "execute_result"
    }
   ],
   "source": [
    "import pandas as pd\n",
    "\n",
    "# Sample DataFrame representing survey responses with some missing values\n",
    "data = {\n",
    "    'SurveyID': [1, 2, 3, 4, 5],\n",
    "    'Respondent': ['Alice', 'Bob', 'Charlie', 'David', 'Eva'],\n",
    "    'Age': [25, None, 30, 22, None],\n",
    "    'SatisfactionScore': [5, 4, None, 2, 3],\n",
    "    'Comments': [None, None, None, None, None]  # All values are missing\n",
    "}\n",
    "\n",
    "df = pd.DataFrame(data)\n",
    "\n",
    "# Summary of missing values before any cleaning\n",
    "missing_values_before = df.isnull().sum()\n",
    "\n",
    "# Step 1: Remove the 'Comments' column first\n",
    "del df['Comments']\n",
    "\n",
    "# Step 2: Then drop rows with any missing values\n",
    "cleaned_df = df.dropna()\n",
    "\n",
    "# Summary of missing values after cleaning\n",
    "missing_values_after = cleaned_df.isnull().sum()\n",
    "\n",
    "# Display results\n",
    "missing_values_before, cleaned_df, missing_values_after  # Show the missing values summary before and after cleaning\n",
    "\n"
   ]
  },
  {
   "cell_type": "markdown",
   "id": "60a885c4",
   "metadata": {},
   "source": [
    "Before cleaning, there are missing value in several columns especially in \"comment\" column\n",
    "After cleaning, dataframe has no missing value.\n",
    "this is at the situation that we do not need data other than number, so the comment is necessary and impede the analysis. Remove it can be more clear and eazy to analyze."
   ]
  },
  {
   "cell_type": "code",
   "execution_count": 20,
   "id": "be2c151a",
   "metadata": {},
   "outputs": [
    {
     "data": {
      "text/html": [
       "<div>\n",
       "<style scoped>\n",
       "    .dataframe tbody tr th:only-of-type {\n",
       "        vertical-align: middle;\n",
       "    }\n",
       "\n",
       "    .dataframe tbody tr th {\n",
       "        vertical-align: top;\n",
       "    }\n",
       "\n",
       "    .dataframe thead th {\n",
       "        text-align: right;\n",
       "    }\n",
       "</style>\n",
       "<table border=\"1\" class=\"dataframe\">\n",
       "  <thead>\n",
       "    <tr style=\"text-align: right;\">\n",
       "      <th></th>\n",
       "      <th>count</th>\n",
       "      <th>mean</th>\n",
       "      <th>std</th>\n",
       "      <th>min</th>\n",
       "      <th>25%</th>\n",
       "      <th>50%</th>\n",
       "      <th>75%</th>\n",
       "      <th>max</th>\n",
       "    </tr>\n",
       "    <tr>\n",
       "      <th>Sex</th>\n",
       "      <th></th>\n",
       "      <th></th>\n",
       "      <th></th>\n",
       "      <th></th>\n",
       "      <th></th>\n",
       "      <th></th>\n",
       "      <th></th>\n",
       "      <th></th>\n",
       "    </tr>\n",
       "  </thead>\n",
       "  <tbody>\n",
       "    <tr>\n",
       "      <th>female</th>\n",
       "      <td>4.0</td>\n",
       "      <td>38.50</td>\n",
       "      <td>12.124356</td>\n",
       "      <td>26.0</td>\n",
       "      <td>32.75</td>\n",
       "      <td>36.5</td>\n",
       "      <td>42.25</td>\n",
       "      <td>55.0</td>\n",
       "    </tr>\n",
       "    <tr>\n",
       "      <th>male</th>\n",
       "      <td>4.0</td>\n",
       "      <td>24.25</td>\n",
       "      <td>8.421203</td>\n",
       "      <td>14.0</td>\n",
       "      <td>20.00</td>\n",
       "      <td>24.5</td>\n",
       "      <td>28.75</td>\n",
       "      <td>34.0</td>\n",
       "    </tr>\n",
       "  </tbody>\n",
       "</table>\n",
       "</div>"
      ],
      "text/plain": [
       "        count   mean        std   min    25%   50%    75%   max\n",
       "Sex                                                            \n",
       "female    4.0  38.50  12.124356  26.0  32.75  36.5  42.25  55.0\n",
       "male      4.0  24.25   8.421203  14.0  20.00  24.5  28.75  34.0"
      ]
     },
     "execution_count": 20,
     "metadata": {},
     "output_type": "execute_result"
    }
   ],
   "source": [
    "import pandas as pd\n",
    "\n",
    "# Sample Titanic dataset\n",
    "data = {\n",
    "    'PassengerId': [1, 2, 3, 4, 5, 6, 7, 8, 9, 10],\n",
    "    'Survived': [0, 1, 1, 1, 0, 0, 0, 1, 0, 0],\n",
    "    'Pclass': [1, 1, 1, 2, 2, 3, 3, 1, 3, 2],\n",
    "    'Name': [\n",
    "        'Braund, Mr. Owen Harris', 'Cumings, Mrs. John Bradley',\n",
    "        'Heikkinen, Miss. Laina', 'Futrelle, Mrs. Jacques Heath',\n",
    "        'Allen, Mr. William Henry', 'Moran, Mr. James',\n",
    "        'McCarthy, Mr. Timothy', 'Palsson, Master. Gosta Leonard',\n",
    "        'Johnson, Mrs. Oscar W', 'Beesley, Mr. Lawrence'\n",
    "    ],\n",
    "    'Sex': ['male', 'female', 'female', 'female', 'male', 'male', 'male', 'male', 'female', 'male'],\n",
    "    'Age': [22, 38, 26, 35, None, 27, None, 14, 55, 34],\n",
    "    'SibSp': [1, 1, 0, 0, 0, 0, 0, 0, 0, 0],\n",
    "    'Parch': [0, 0, 0, 0, 0, 0, 0, 1, 0, 0],\n",
    "    'Fare': [7.25, 71.83, 7.92, 53.10, 8.05, 8.46, 7.23, 51.86, 26.55, 61.38],\n",
    "    'Embarked': ['C', 'S', 'S', 'S', 'C', 'S', 'Q', 'S', 'S', 'C']\n",
    "}\n",
    "\n",
    "# Creating the DataFrame\n",
    "titanic_df = pd.DataFrame(data)\n",
    "\n",
    "# Using df.groupby(\"Sex\")[\"Age\"].describe() to summarize age statistics by gender\n",
    "age_summary = titanic_df.groupby(\"Sex\")[\"Age\"].describe()\n",
    "\n",
    "age_summary"
   ]
  },
  {
   "cell_type": "markdown",
   "id": "8d49d6a4",
   "metadata": {},
   "source": [
    "df.groupby(\"col1\") meaning the groups the df by different values in col1. Each value represent a different group. [\"col2\"] is the column2 that I want to focus on with in each group that created by df.groupby(\"col1\"). .describe(),this is decribe function that give the data information like count, mean, std,etc."
   ]
  },
  {
   "cell_type": "code",
   "execution_count": 21,
   "id": "50219270",
   "metadata": {
    "scrolled": true
   },
   "outputs": [
    {
     "name": "stdout",
     "output_type": "stream",
     "text": [
      "        count  mean  std  min  25%  50%  75%  max\n",
      "Gender                                           \n",
      "Female    0.0   NaN  NaN  NaN  NaN  NaN  NaN  NaN\n",
      "Male      3.0   4.0  1.0  3.0  3.5  4.0  4.5  5.0\n"
     ]
    }
   ],
   "source": [
    "import pandas as pd\n",
    "\n",
    "# Sample dataset with missing values\n",
    "data = {\n",
    "    'CustomerID': [1, 2, 3, 4, 5],\n",
    "    'SatisfactionRating': [5, None, 3, None, 4],\n",
    "    'Gender': ['Male', 'Female', 'Male', 'Female', 'Male']\n",
    "}\n",
    "\n",
    "df = pd.DataFrame(data)\n",
    "\n",
    "# Group by gender and describe satisfaction ratings\n",
    "summary = df.groupby(\"Gender\")[\"SatisfactionRating\"].describe()\n",
    "\n",
    "print(summary)"
   ]
  },
  {
   "cell_type": "markdown",
   "id": "e120a0a1",
   "metadata": {},
   "source": [
    "When missing values have not be removed. The df.groupby(\"col1\") take consider of missing value in columns which is impact the accurate of data."
   ]
  },
  {
   "cell_type": "code",
   "execution_count": 22,
   "id": "6e78963d",
   "metadata": {},
   "outputs": [
    {
     "name": "stdout",
     "output_type": "stream",
     "text": [
      "Data Summary:\n",
      "Number of Rows: 391\n",
      "Number of Columns: 11\n",
      "Missing Values: {'row_n': 0, 'id': 1, 'name': 0, 'gender': 0, 'species': 0, 'birthday': 0, 'personality': 0, 'song': 11, 'phrase': 0, 'full_id': 0, 'url': 0}\n",
      "Unique Values: {'id': 390, 'name': 391, 'gender': 2, 'species': 35, 'birthday': 361, 'personality': 8, 'song': 92, 'phrase': 388, 'full_id': 391, 'url': 391}\n",
      "Preview of the dataset:\n",
      "   row_n       id     name  gender    species birthday personality  \\\n",
      "0      2  admiral  Admiral    male       bird     1-27      cranky   \n",
      "1      3  agent-s  Agent S  female   squirrel      7-2       peppy   \n",
      "2      4    agnes    Agnes  female        pig     4-21        uchi   \n",
      "3      6       al       Al    male    gorilla    10-18        lazy   \n",
      "4      7  alfonso  Alfonso    male  alligator      6-9        lazy   \n",
      "\n",
      "          song    phrase           full_id  \\\n",
      "0   Steep Hill   aye aye  villager-admiral   \n",
      "1      DJ K.K.  sidekick  villager-agent-s   \n",
      "2   K.K. House   snuffle    villager-agnes   \n",
      "3   Steep Hill   Ayyeeee       villager-al   \n",
      "4  Forest Life  it'sa me  villager-alfonso   \n",
      "\n",
      "                                                 url  \n",
      "0  https://villagerdb.com/images/villagers/thumb/...  \n",
      "1  https://villagerdb.com/images/villagers/thumb/...  \n",
      "2  https://villagerdb.com/images/villagers/thumb/...  \n",
      "3  https://villagerdb.com/images/villagers/thumb/...  \n",
      "4  https://villagerdb.com/images/villagers/thumb/...  \n"
     ]
    }
   ],
   "source": [
    "url = \"https://raw.githubusercontent.com/rfordatascience/tidytuesday/master/data/2020/2020-05-05/villagers.csv\"\n",
    "df = pd.read_csv(url)\n",
    "summary = {\n",
    "    \"Number of Rows\": df.shape[0],\n",
    "    \"Number of Columns\": df.shape[1],\n",
    "    \"Missing Values\": df.isna().sum().to_dict(),\n",
    "    \"Unique Values\": {column: df[column].nunique() for column in df.select_dtypes(include=['object']).columns},\n",
    "    \"Preview\": df.head().to_dict(orient='records')\n",
    "}\n",
    "print(\"Data Summary:\")\n",
    "print(f\"Number of Rows: {summary['Number of Rows']}\")\n",
    "print(f\"Number of Columns: {summary['Number of Columns']}\")\n",
    "print(\"Missing Values:\", summary['Missing Values'])\n",
    "print(\"Unique Values:\", summary['Unique Values'])\n",
    "print(\"Preview of the dataset:\")\n",
    "print(pd.DataFrame(summary['Preview']))"
   ]
  },
  {
   "cell_type": "code",
   "execution_count": 23,
   "id": "219b3079",
   "metadata": {},
   "outputs": [
    {
     "name": "stdout",
     "output_type": "stream",
     "text": [
      "Data Summary:\n",
      "Number of Rows: 391\n",
      "Number of Columns: 11\n",
      "Missing Values: {'row_n': 0, 'id': 1, 'name': 0, 'gender': 0, 'species': 0, 'birthday': 0, 'personality': 0, 'song': 11, 'phrase': 0, 'full_id': 0, 'url': 0}\n",
      "Unique Values: {'id': 390, 'name': 391, 'gender': 2, 'species': 35, 'birthday': 361, 'personality': 8, 'song': 92, 'phrase': 388, 'full_id': 391, 'url': 391}\n",
      "Preview of the dataset:\n",
      "   row_n       id     name  gender    species birthday personality  \\\n",
      "0      2  admiral  Admiral    male       bird     1-27      cranky   \n",
      "1      3  agent-s  Agent S  female   squirrel      7-2       peppy   \n",
      "2      4    agnes    Agnes  female        pig     4-21        uchi   \n",
      "3      6       al       Al    male    gorilla    10-18        lazy   \n",
      "4      7  alfonso  Alfonso    male  alligator      6-9        lazy   \n",
      "\n",
      "          song    phrase           full_id  \\\n",
      "0   Steep Hill   aye aye  villager-admiral   \n",
      "1      DJ K.K.  sidekick  villager-agent-s   \n",
      "2   K.K. House   snuffle    villager-agnes   \n",
      "3   Steep Hill   Ayyeeee       villager-al   \n",
      "4  Forest Life  it'sa me  villager-alfonso   \n",
      "\n",
      "                                                 url  \n",
      "0  https://villagerdb.com/images/villagers/thumb/...  \n",
      "1  https://villagerdb.com/images/villagers/thumb/...  \n",
      "2  https://villagerdb.com/images/villagers/thumb/...  \n",
      "3  https://villagerdb.com/images/villagers/thumb/...  \n",
      "4  https://villagerdb.com/images/villagers/thumb/...  \n"
     ]
    }
   ],
   "source": [
    "import pandas as pd\n",
    "\n",
    "# Load the dataset from the provided URL\n",
    "url = \"https://raw.githubusercontent.com/rfordatascience/tidytuesday/master/data/2020/2020-05-05/villagers.csv\"\n",
    "df = pd.read_csv(url)\n",
    "\n",
    "# Create a summary of the dataset\n",
    "summary = {\n",
    "    \"Number of Rows\": df.shape[0],\n",
    "    \"Number of Columns\": df.shape[1],\n",
    "    \"Missing Values\": df.isna().sum().to_dict(),\n",
    "    \"Unique Values\": {column: df[column].nunique() for column in df.select_dtypes(include=['object']).columns},\n",
    "    \"Preview\": df.head().to_dict(orient='records')\n",
    "}\n",
    "\n",
    "# Print the summary\n",
    "print(\"Data Summary:\")\n",
    "print(f\"Number of Rows: {summary['Number of Rows']}\")\n",
    "print(f\"Number of Columns: {summary['Number of Columns']}\")\n",
    "print(\"Missing Values:\", summary['Missing Values'])\n",
    "print(\"Unique Values:\", summary['Unique Values'])\n",
    "print(\"Preview of the dataset:\")\n",
    "print(pd.DataFrame(summary['Preview']))\n"
   ]
  },
  {
   "cell_type": "code",
   "execution_count": 24,
   "id": "2de0f1ea",
   "metadata": {},
   "outputs": [
    {
     "ename": "KeyError",
     "evalue": "'Gender'",
     "output_type": "error",
     "traceback": [
      "\u001b[0;31m---------------------------------------------------------------------------\u001b[0m",
      "\u001b[0;31mKeyError\u001b[0m                                  Traceback (most recent call last)",
      "Cell \u001b[0;32mIn[24], line 13\u001b[0m\n\u001b[1;32m     10\u001b[0m DF \u001b[38;5;241m=\u001b[39m pd\u001b[38;5;241m.\u001b[39mDataFrame(data)\n\u001b[1;32m     12\u001b[0m \u001b[38;5;66;03m# Group by gender and describe satisfaction ratings\u001b[39;00m\n\u001b[0;32m---> 13\u001b[0m summary \u001b[38;5;241m=\u001b[39m \u001b[43mdf\u001b[49m\u001b[38;5;241;43m.\u001b[39;49m\u001b[43mgroupby\u001b[49m\u001b[43m(\u001b[49m\u001b[38;5;124;43m\"\u001b[39;49m\u001b[38;5;124;43mGender\u001b[39;49m\u001b[38;5;124;43m\"\u001b[39;49m\u001b[43m)\u001b[49m[\u001b[38;5;124m\"\u001b[39m\u001b[38;5;124mSatisfactionRating\u001b[39m\u001b[38;5;124m\"\u001b[39m]\u001b[38;5;241m.\u001b[39mdescribe()\n\u001b[1;32m     15\u001b[0m \u001b[38;5;28mprint\u001b[39m(summary)\n",
      "File \u001b[0;32m/opt/conda/lib/python3.11/site-packages/pandas/core/frame.py:8869\u001b[0m, in \u001b[0;36mDataFrame.groupby\u001b[0;34m(self, by, axis, level, as_index, sort, group_keys, observed, dropna)\u001b[0m\n\u001b[1;32m   8866\u001b[0m \u001b[38;5;28;01mif\u001b[39;00m level \u001b[38;5;129;01mis\u001b[39;00m \u001b[38;5;28;01mNone\u001b[39;00m \u001b[38;5;129;01mand\u001b[39;00m by \u001b[38;5;129;01mis\u001b[39;00m \u001b[38;5;28;01mNone\u001b[39;00m:\n\u001b[1;32m   8867\u001b[0m     \u001b[38;5;28;01mraise\u001b[39;00m \u001b[38;5;167;01mTypeError\u001b[39;00m(\u001b[38;5;124m\"\u001b[39m\u001b[38;5;124mYou have to supply one of \u001b[39m\u001b[38;5;124m'\u001b[39m\u001b[38;5;124mby\u001b[39m\u001b[38;5;124m'\u001b[39m\u001b[38;5;124m and \u001b[39m\u001b[38;5;124m'\u001b[39m\u001b[38;5;124mlevel\u001b[39m\u001b[38;5;124m'\u001b[39m\u001b[38;5;124m\"\u001b[39m)\n\u001b[0;32m-> 8869\u001b[0m \u001b[38;5;28;01mreturn\u001b[39;00m \u001b[43mDataFrameGroupBy\u001b[49m\u001b[43m(\u001b[49m\n\u001b[1;32m   8870\u001b[0m \u001b[43m    \u001b[49m\u001b[43mobj\u001b[49m\u001b[38;5;241;43m=\u001b[39;49m\u001b[38;5;28;43mself\u001b[39;49m\u001b[43m,\u001b[49m\n\u001b[1;32m   8871\u001b[0m \u001b[43m    \u001b[49m\u001b[43mkeys\u001b[49m\u001b[38;5;241;43m=\u001b[39;49m\u001b[43mby\u001b[49m\u001b[43m,\u001b[49m\n\u001b[1;32m   8872\u001b[0m \u001b[43m    \u001b[49m\u001b[43maxis\u001b[49m\u001b[38;5;241;43m=\u001b[39;49m\u001b[43maxis\u001b[49m\u001b[43m,\u001b[49m\n\u001b[1;32m   8873\u001b[0m \u001b[43m    \u001b[49m\u001b[43mlevel\u001b[49m\u001b[38;5;241;43m=\u001b[39;49m\u001b[43mlevel\u001b[49m\u001b[43m,\u001b[49m\n\u001b[1;32m   8874\u001b[0m \u001b[43m    \u001b[49m\u001b[43mas_index\u001b[49m\u001b[38;5;241;43m=\u001b[39;49m\u001b[43mas_index\u001b[49m\u001b[43m,\u001b[49m\n\u001b[1;32m   8875\u001b[0m \u001b[43m    \u001b[49m\u001b[43msort\u001b[49m\u001b[38;5;241;43m=\u001b[39;49m\u001b[43msort\u001b[49m\u001b[43m,\u001b[49m\n\u001b[1;32m   8876\u001b[0m \u001b[43m    \u001b[49m\u001b[43mgroup_keys\u001b[49m\u001b[38;5;241;43m=\u001b[39;49m\u001b[43mgroup_keys\u001b[49m\u001b[43m,\u001b[49m\n\u001b[1;32m   8877\u001b[0m \u001b[43m    \u001b[49m\u001b[43mobserved\u001b[49m\u001b[38;5;241;43m=\u001b[39;49m\u001b[43mobserved\u001b[49m\u001b[43m,\u001b[49m\n\u001b[1;32m   8878\u001b[0m \u001b[43m    \u001b[49m\u001b[43mdropna\u001b[49m\u001b[38;5;241;43m=\u001b[39;49m\u001b[43mdropna\u001b[49m\u001b[43m,\u001b[49m\n\u001b[1;32m   8879\u001b[0m \u001b[43m\u001b[49m\u001b[43m)\u001b[49m\n",
      "File \u001b[0;32m/opt/conda/lib/python3.11/site-packages/pandas/core/groupby/groupby.py:1278\u001b[0m, in \u001b[0;36mGroupBy.__init__\u001b[0;34m(self, obj, keys, axis, level, grouper, exclusions, selection, as_index, sort, group_keys, observed, dropna)\u001b[0m\n\u001b[1;32m   1275\u001b[0m \u001b[38;5;28mself\u001b[39m\u001b[38;5;241m.\u001b[39mdropna \u001b[38;5;241m=\u001b[39m dropna\n\u001b[1;32m   1277\u001b[0m \u001b[38;5;28;01mif\u001b[39;00m grouper \u001b[38;5;129;01mis\u001b[39;00m \u001b[38;5;28;01mNone\u001b[39;00m:\n\u001b[0;32m-> 1278\u001b[0m     grouper, exclusions, obj \u001b[38;5;241m=\u001b[39m \u001b[43mget_grouper\u001b[49m\u001b[43m(\u001b[49m\n\u001b[1;32m   1279\u001b[0m \u001b[43m        \u001b[49m\u001b[43mobj\u001b[49m\u001b[43m,\u001b[49m\n\u001b[1;32m   1280\u001b[0m \u001b[43m        \u001b[49m\u001b[43mkeys\u001b[49m\u001b[43m,\u001b[49m\n\u001b[1;32m   1281\u001b[0m \u001b[43m        \u001b[49m\u001b[43maxis\u001b[49m\u001b[38;5;241;43m=\u001b[39;49m\u001b[43maxis\u001b[49m\u001b[43m,\u001b[49m\n\u001b[1;32m   1282\u001b[0m \u001b[43m        \u001b[49m\u001b[43mlevel\u001b[49m\u001b[38;5;241;43m=\u001b[39;49m\u001b[43mlevel\u001b[49m\u001b[43m,\u001b[49m\n\u001b[1;32m   1283\u001b[0m \u001b[43m        \u001b[49m\u001b[43msort\u001b[49m\u001b[38;5;241;43m=\u001b[39;49m\u001b[43msort\u001b[49m\u001b[43m,\u001b[49m\n\u001b[1;32m   1284\u001b[0m \u001b[43m        \u001b[49m\u001b[43mobserved\u001b[49m\u001b[38;5;241;43m=\u001b[39;49m\u001b[38;5;28;43;01mFalse\u001b[39;49;00m\u001b[43m \u001b[49m\u001b[38;5;28;43;01mif\u001b[39;49;00m\u001b[43m \u001b[49m\u001b[43mobserved\u001b[49m\u001b[43m \u001b[49m\u001b[38;5;129;43;01mis\u001b[39;49;00m\u001b[43m \u001b[49m\u001b[43mlib\u001b[49m\u001b[38;5;241;43m.\u001b[39;49m\u001b[43mno_default\u001b[49m\u001b[43m \u001b[49m\u001b[38;5;28;43;01melse\u001b[39;49;00m\u001b[43m \u001b[49m\u001b[43mobserved\u001b[49m\u001b[43m,\u001b[49m\n\u001b[1;32m   1285\u001b[0m \u001b[43m        \u001b[49m\u001b[43mdropna\u001b[49m\u001b[38;5;241;43m=\u001b[39;49m\u001b[38;5;28;43mself\u001b[39;49m\u001b[38;5;241;43m.\u001b[39;49m\u001b[43mdropna\u001b[49m\u001b[43m,\u001b[49m\n\u001b[1;32m   1286\u001b[0m \u001b[43m    \u001b[49m\u001b[43m)\u001b[49m\n\u001b[1;32m   1288\u001b[0m \u001b[38;5;28;01mif\u001b[39;00m observed \u001b[38;5;129;01mis\u001b[39;00m lib\u001b[38;5;241m.\u001b[39mno_default:\n\u001b[1;32m   1289\u001b[0m     \u001b[38;5;28;01mif\u001b[39;00m \u001b[38;5;28many\u001b[39m(ping\u001b[38;5;241m.\u001b[39m_passed_categorical \u001b[38;5;28;01mfor\u001b[39;00m ping \u001b[38;5;129;01min\u001b[39;00m grouper\u001b[38;5;241m.\u001b[39mgroupings):\n",
      "File \u001b[0;32m/opt/conda/lib/python3.11/site-packages/pandas/core/groupby/grouper.py:1009\u001b[0m, in \u001b[0;36mget_grouper\u001b[0;34m(obj, key, axis, level, sort, observed, validate, dropna)\u001b[0m\n\u001b[1;32m   1007\u001b[0m         in_axis, level, gpr \u001b[38;5;241m=\u001b[39m \u001b[38;5;28;01mFalse\u001b[39;00m, gpr, \u001b[38;5;28;01mNone\u001b[39;00m\n\u001b[1;32m   1008\u001b[0m     \u001b[38;5;28;01melse\u001b[39;00m:\n\u001b[0;32m-> 1009\u001b[0m         \u001b[38;5;28;01mraise\u001b[39;00m \u001b[38;5;167;01mKeyError\u001b[39;00m(gpr)\n\u001b[1;32m   1010\u001b[0m \u001b[38;5;28;01melif\u001b[39;00m \u001b[38;5;28misinstance\u001b[39m(gpr, Grouper) \u001b[38;5;129;01mand\u001b[39;00m gpr\u001b[38;5;241m.\u001b[39mkey \u001b[38;5;129;01mis\u001b[39;00m \u001b[38;5;129;01mnot\u001b[39;00m \u001b[38;5;28;01mNone\u001b[39;00m:\n\u001b[1;32m   1011\u001b[0m     \u001b[38;5;66;03m# Add key to exclusions\u001b[39;00m\n\u001b[1;32m   1012\u001b[0m     exclusions\u001b[38;5;241m.\u001b[39madd(gpr\u001b[38;5;241m.\u001b[39mkey)\n",
      "\u001b[0;31mKeyError\u001b[0m: 'Gender'"
     ]
    }
   ],
   "source": [
    "import pandas as pd\n",
    "\n",
    "# Sample dataset with missing values\n",
    "data = {\n",
    "    'CustomerID': [1, 2, 3, 4, 5],\n",
    "    'SatisfactionRating': [5, None, 3, None, 4],\n",
    "    'Gender': ['Male', 'Female', 'Male', 'Female', 'Male']\n",
    "}\n",
    "\n",
    "DF = pd.DataFrame(data)\n",
    "\n",
    "# Group by gender and describe satisfaction ratings\n",
    "summary = df.groupby(\"Gender\")[\"SatisfactionRating\"].describe()\n",
    "\n",
    "print(summary)"
   ]
  },
  {
   "cell_type": "code",
   "execution_count": 25,
   "id": "fdb5f5f0",
   "metadata": {},
   "outputs": [
    {
     "name": "stdout",
     "output_type": "stream",
     "text": [
      "        count  mean  std  min  25%  50%  75%  max\n",
      "Gender                                           \n",
      "Female    0.0   NaN  NaN  NaN  NaN  NaN  NaN  NaN\n",
      "Male      3.0   4.0  1.0  3.0  3.5  4.0  4.5  5.0\n"
     ]
    }
   ],
   "source": [
    "import pandas as pd\n",
    "\n",
    "# Sample dataset with missing values\n",
    "data = {\n",
    "    'CustomerID': [1, 2, 3, 4, 5],\n",
    "    'SatisfactionRating': [5, None, 3, None, 4],\n",
    "    'Gender': ['Male', 'Female', 'Male', 'Female', 'Male']\n",
    "}\n",
    "\n",
    "# Create the DataFrame\n",
    "df = pd.DataFrame(data)  # Use lowercase 'df' instead of 'DF'\n",
    "\n",
    "# Group by gender and describe satisfaction ratings\n",
    "summary = df.groupby(\"Gender\")[\"SatisfactionRating\"].describe()\n",
    "\n",
    "# Print the summary\n",
    "print(summary)\n"
   ]
  },
  {
   "cell_type": "code",
   "execution_count": null,
   "id": "80bc8e85",
   "metadata": {},
   "outputs": [],
   "source": [
    "import pandas as pd\n",
    "\n",
    "url = \"https://raw.githubusercontent.com/rfordatascience/tidytuesday/master/data/2020/2020-05-05/villagers.csv\"\n",
    "df = pd.read_csv(url\n",
    "summary = {\n",
    "    \"Number of Rows\": df.shape[0],\n",
    "    \"Number of Columns\": df.shape[1],\n",
    "    \"Missing Values\": df.isna().sum().to_dict(),\n",
    "    \"Unique Values\": {column: df[column].nunique() for column in df.select_dtypes(include=['object']).columns},\n",
    "    \"Preview\": df.head().to_dict(orient='records')\n",
    "}\n",
    "print(\"Data Summary:\")\n",
    "print(f\"Number of Rows: {summary['Number of Rows']}\")\n",
    "print(f\"Number of Columns: {summary['Number of Columns']}\")\n",
    "print(\"Missing Values:\", summary['Missing Values'])\n",
    "print(\"Unique Values:\", summary['Unique Values'])\n",
    "print(\"Preview of the dataset:\")\n",
    "print(pd.DataFrame(summary['Preview']))"
   ]
  },
  {
   "cell_type": "code",
   "execution_count": 26,
   "id": "68353c4a",
   "metadata": {},
   "outputs": [
    {
     "name": "stdout",
     "output_type": "stream",
     "text": [
      "Data Summary:\n",
      "Number of Rows: 391\n",
      "Number of Columns: 11\n",
      "Missing Values: {'row_n': 0, 'id': 1, 'name': 0, 'gender': 0, 'species': 0, 'birthday': 0, 'personality': 0, 'song': 11, 'phrase': 0, 'full_id': 0, 'url': 0}\n",
      "Unique Values: {'id': 390, 'name': 391, 'gender': 2, 'species': 35, 'birthday': 361, 'personality': 8, 'song': 92, 'phrase': 388, 'full_id': 391, 'url': 391}\n",
      "Preview of the dataset:\n",
      "   row_n       id     name  gender    species birthday personality  \\\n",
      "0      2  admiral  Admiral    male       bird     1-27      cranky   \n",
      "1      3  agent-s  Agent S  female   squirrel      7-2       peppy   \n",
      "2      4    agnes    Agnes  female        pig     4-21        uchi   \n",
      "3      6       al       Al    male    gorilla    10-18        lazy   \n",
      "4      7  alfonso  Alfonso    male  alligator      6-9        lazy   \n",
      "\n",
      "          song    phrase           full_id  \\\n",
      "0   Steep Hill   aye aye  villager-admiral   \n",
      "1      DJ K.K.  sidekick  villager-agent-s   \n",
      "2   K.K. House   snuffle    villager-agnes   \n",
      "3   Steep Hill   Ayyeeee       villager-al   \n",
      "4  Forest Life  it'sa me  villager-alfonso   \n",
      "\n",
      "                                                 url  \n",
      "0  https://villagerdb.com/images/villagers/thumb/...  \n",
      "1  https://villagerdb.com/images/villagers/thumb/...  \n",
      "2  https://villagerdb.com/images/villagers/thumb/...  \n",
      "3  https://villagerdb.com/images/villagers/thumb/...  \n",
      "4  https://villagerdb.com/images/villagers/thumb/...  \n"
     ]
    }
   ],
   "source": [
    "import pandas as pd\n",
    "\n",
    "# Load the dataset from the provided URL\n",
    "url = \"https://raw.githubusercontent.com/rfordatascience/tidytuesday/master/data/2020/2020-05-05/villagers.csv\"\n",
    "df = pd.read_csv(url)  # Fixed the missing closing parenthesis\n",
    "\n",
    "# Create a summary of the dataset\n",
    "summary = {\n",
    "    \"Number of Rows\": df.shape[0],\n",
    "    \"Number of Columns\": df.shape[1],\n",
    "    \"Missing Values\": df.isna().sum().to_dict(),\n",
    "    \"Unique Values\": {column: df[column].nunique() for column in df.select_dtypes(include=['object']).columns},\n",
    "    \"Preview\": df.head().to_dict(orient='records')\n",
    "}\n",
    "\n",
    "# Print the summary\n",
    "print(\"Data Summary:\")\n",
    "print(f\"Number of Rows: {summary['Number of Rows']}\")\n",
    "print(f\"Number of Columns: {summary['Number of Columns']}\")\n",
    "print(\"Missing Values:\", summary['Missing Values'])\n",
    "print(\"Unique Values:\", summary['Unique Values'])\n",
    "print(\"Preview of the dataset:\")\n",
    "print(pd.DataFrame(summary['Preview']))\n"
   ]
  },
  {
   "cell_type": "code",
   "execution_count": null,
   "id": "8943b747",
   "metadata": {},
   "outputs": [],
   "source": [
    "import pandas as pd\n",
    "\n",
    "# Sample dataset with missing values\n",
    "data = {\n",
    "    'CustomerID': [1, 2, 3, 4, 5],\n",
    "    'SatisfactionRating': [5, None, 3, None, 4],\n",
    "    'Gender': ['Male', 'Female', 'Male', 'Female', 'Male']\n",
    "}\n",
    "\n",
    "# Create the DataFrame\n",
    "df = pd.DataFrame(data)  # Use lowercase 'df' instead of 'DF'\n",
    "\n",
    "# Group by gender and describe satisfaction ratings\n",
    "summary = df.groupby_(\"Gender\")_[\"SatisfactionRating\"].describe()\n",
    "\n",
    "# Print the summary\n",
    "print(summary)\n"
   ]
  },
  {
   "cell_type": "code",
   "execution_count": 27,
   "id": "e7ef844b",
   "metadata": {},
   "outputs": [
    {
     "name": "stdout",
     "output_type": "stream",
     "text": [
      "        count  mean  std  min  25%  50%  75%  max\n",
      "Gender                                           \n",
      "Female    0.0   NaN  NaN  NaN  NaN  NaN  NaN  NaN\n",
      "Male      3.0   4.0  1.0  3.0  3.5  4.0  4.5  5.0\n"
     ]
    }
   ],
   "source": [
    "import pandas as pd\n",
    "\n",
    "# Sample dataset with missing values\n",
    "data = {\n",
    "    'CustomerID': [1, 2, 3, 4, 5],\n",
    "    'SatisfactionRating': [5, None, 3, None, 4],\n",
    "    'Gender': ['Male', 'Female', 'Male', 'Female', 'Male']\n",
    "}\n",
    "\n",
    "# Create the DataFrame\n",
    "df = pd.DataFrame(data)  # Use lowercase 'df'\n",
    "\n",
    "# Correct the groupby method syntax and describe satisfaction ratings\n",
    "summary = df.groupby(\"Gender\")[\"SatisfactionRating\"].describe()  # Fixed the method name\n",
    "\n",
    "# Print the summary\n",
    "print(summary)\n"
   ]
  },
  {
   "cell_type": "code",
   "execution_count": 28,
   "id": "e384e892",
   "metadata": {},
   "outputs": [
    {
     "ename": "KeyError",
     "evalue": "'GENder'",
     "output_type": "error",
     "traceback": [
      "\u001b[0;31m---------------------------------------------------------------------------\u001b[0m",
      "\u001b[0;31mKeyError\u001b[0m                                  Traceback (most recent call last)",
      "Cell \u001b[0;32mIn[28], line 14\u001b[0m\n\u001b[1;32m     11\u001b[0m df \u001b[38;5;241m=\u001b[39m pd\u001b[38;5;241m.\u001b[39mDataFrame(data)  \u001b[38;5;66;03m# Use lowercase 'df'\u001b[39;00m\n\u001b[1;32m     13\u001b[0m \u001b[38;5;66;03m# Correct the groupby method syntax and describe satisfaction ratings\u001b[39;00m\n\u001b[0;32m---> 14\u001b[0m summary \u001b[38;5;241m=\u001b[39m \u001b[43mdf\u001b[49m\u001b[38;5;241;43m.\u001b[39;49m\u001b[43mgroupby\u001b[49m\u001b[43m(\u001b[49m\u001b[38;5;124;43m\"\u001b[39;49m\u001b[38;5;124;43mGENder\u001b[39;49m\u001b[38;5;124;43m\"\u001b[39;49m\u001b[43m)\u001b[49m[\u001b[38;5;124m\"\u001b[39m\u001b[38;5;124mSatisfactionRating\u001b[39m\u001b[38;5;124m\"\u001b[39m]\u001b[38;5;241m.\u001b[39mdescribe()  \u001b[38;5;66;03m# Fixed the method name\u001b[39;00m\n\u001b[1;32m     16\u001b[0m \u001b[38;5;66;03m# Print the summary\u001b[39;00m\n\u001b[1;32m     17\u001b[0m \u001b[38;5;28mprint\u001b[39m(summary)\n",
      "File \u001b[0;32m/opt/conda/lib/python3.11/site-packages/pandas/core/frame.py:8869\u001b[0m, in \u001b[0;36mDataFrame.groupby\u001b[0;34m(self, by, axis, level, as_index, sort, group_keys, observed, dropna)\u001b[0m\n\u001b[1;32m   8866\u001b[0m \u001b[38;5;28;01mif\u001b[39;00m level \u001b[38;5;129;01mis\u001b[39;00m \u001b[38;5;28;01mNone\u001b[39;00m \u001b[38;5;129;01mand\u001b[39;00m by \u001b[38;5;129;01mis\u001b[39;00m \u001b[38;5;28;01mNone\u001b[39;00m:\n\u001b[1;32m   8867\u001b[0m     \u001b[38;5;28;01mraise\u001b[39;00m \u001b[38;5;167;01mTypeError\u001b[39;00m(\u001b[38;5;124m\"\u001b[39m\u001b[38;5;124mYou have to supply one of \u001b[39m\u001b[38;5;124m'\u001b[39m\u001b[38;5;124mby\u001b[39m\u001b[38;5;124m'\u001b[39m\u001b[38;5;124m and \u001b[39m\u001b[38;5;124m'\u001b[39m\u001b[38;5;124mlevel\u001b[39m\u001b[38;5;124m'\u001b[39m\u001b[38;5;124m\"\u001b[39m)\n\u001b[0;32m-> 8869\u001b[0m \u001b[38;5;28;01mreturn\u001b[39;00m \u001b[43mDataFrameGroupBy\u001b[49m\u001b[43m(\u001b[49m\n\u001b[1;32m   8870\u001b[0m \u001b[43m    \u001b[49m\u001b[43mobj\u001b[49m\u001b[38;5;241;43m=\u001b[39;49m\u001b[38;5;28;43mself\u001b[39;49m\u001b[43m,\u001b[49m\n\u001b[1;32m   8871\u001b[0m \u001b[43m    \u001b[49m\u001b[43mkeys\u001b[49m\u001b[38;5;241;43m=\u001b[39;49m\u001b[43mby\u001b[49m\u001b[43m,\u001b[49m\n\u001b[1;32m   8872\u001b[0m \u001b[43m    \u001b[49m\u001b[43maxis\u001b[49m\u001b[38;5;241;43m=\u001b[39;49m\u001b[43maxis\u001b[49m\u001b[43m,\u001b[49m\n\u001b[1;32m   8873\u001b[0m \u001b[43m    \u001b[49m\u001b[43mlevel\u001b[49m\u001b[38;5;241;43m=\u001b[39;49m\u001b[43mlevel\u001b[49m\u001b[43m,\u001b[49m\n\u001b[1;32m   8874\u001b[0m \u001b[43m    \u001b[49m\u001b[43mas_index\u001b[49m\u001b[38;5;241;43m=\u001b[39;49m\u001b[43mas_index\u001b[49m\u001b[43m,\u001b[49m\n\u001b[1;32m   8875\u001b[0m \u001b[43m    \u001b[49m\u001b[43msort\u001b[49m\u001b[38;5;241;43m=\u001b[39;49m\u001b[43msort\u001b[49m\u001b[43m,\u001b[49m\n\u001b[1;32m   8876\u001b[0m \u001b[43m    \u001b[49m\u001b[43mgroup_keys\u001b[49m\u001b[38;5;241;43m=\u001b[39;49m\u001b[43mgroup_keys\u001b[49m\u001b[43m,\u001b[49m\n\u001b[1;32m   8877\u001b[0m \u001b[43m    \u001b[49m\u001b[43mobserved\u001b[49m\u001b[38;5;241;43m=\u001b[39;49m\u001b[43mobserved\u001b[49m\u001b[43m,\u001b[49m\n\u001b[1;32m   8878\u001b[0m \u001b[43m    \u001b[49m\u001b[43mdropna\u001b[49m\u001b[38;5;241;43m=\u001b[39;49m\u001b[43mdropna\u001b[49m\u001b[43m,\u001b[49m\n\u001b[1;32m   8879\u001b[0m \u001b[43m\u001b[49m\u001b[43m)\u001b[49m\n",
      "File \u001b[0;32m/opt/conda/lib/python3.11/site-packages/pandas/core/groupby/groupby.py:1278\u001b[0m, in \u001b[0;36mGroupBy.__init__\u001b[0;34m(self, obj, keys, axis, level, grouper, exclusions, selection, as_index, sort, group_keys, observed, dropna)\u001b[0m\n\u001b[1;32m   1275\u001b[0m \u001b[38;5;28mself\u001b[39m\u001b[38;5;241m.\u001b[39mdropna \u001b[38;5;241m=\u001b[39m dropna\n\u001b[1;32m   1277\u001b[0m \u001b[38;5;28;01mif\u001b[39;00m grouper \u001b[38;5;129;01mis\u001b[39;00m \u001b[38;5;28;01mNone\u001b[39;00m:\n\u001b[0;32m-> 1278\u001b[0m     grouper, exclusions, obj \u001b[38;5;241m=\u001b[39m \u001b[43mget_grouper\u001b[49m\u001b[43m(\u001b[49m\n\u001b[1;32m   1279\u001b[0m \u001b[43m        \u001b[49m\u001b[43mobj\u001b[49m\u001b[43m,\u001b[49m\n\u001b[1;32m   1280\u001b[0m \u001b[43m        \u001b[49m\u001b[43mkeys\u001b[49m\u001b[43m,\u001b[49m\n\u001b[1;32m   1281\u001b[0m \u001b[43m        \u001b[49m\u001b[43maxis\u001b[49m\u001b[38;5;241;43m=\u001b[39;49m\u001b[43maxis\u001b[49m\u001b[43m,\u001b[49m\n\u001b[1;32m   1282\u001b[0m \u001b[43m        \u001b[49m\u001b[43mlevel\u001b[49m\u001b[38;5;241;43m=\u001b[39;49m\u001b[43mlevel\u001b[49m\u001b[43m,\u001b[49m\n\u001b[1;32m   1283\u001b[0m \u001b[43m        \u001b[49m\u001b[43msort\u001b[49m\u001b[38;5;241;43m=\u001b[39;49m\u001b[43msort\u001b[49m\u001b[43m,\u001b[49m\n\u001b[1;32m   1284\u001b[0m \u001b[43m        \u001b[49m\u001b[43mobserved\u001b[49m\u001b[38;5;241;43m=\u001b[39;49m\u001b[38;5;28;43;01mFalse\u001b[39;49;00m\u001b[43m \u001b[49m\u001b[38;5;28;43;01mif\u001b[39;49;00m\u001b[43m \u001b[49m\u001b[43mobserved\u001b[49m\u001b[43m \u001b[49m\u001b[38;5;129;43;01mis\u001b[39;49;00m\u001b[43m \u001b[49m\u001b[43mlib\u001b[49m\u001b[38;5;241;43m.\u001b[39;49m\u001b[43mno_default\u001b[49m\u001b[43m \u001b[49m\u001b[38;5;28;43;01melse\u001b[39;49;00m\u001b[43m \u001b[49m\u001b[43mobserved\u001b[49m\u001b[43m,\u001b[49m\n\u001b[1;32m   1285\u001b[0m \u001b[43m        \u001b[49m\u001b[43mdropna\u001b[49m\u001b[38;5;241;43m=\u001b[39;49m\u001b[38;5;28;43mself\u001b[39;49m\u001b[38;5;241;43m.\u001b[39;49m\u001b[43mdropna\u001b[49m\u001b[43m,\u001b[49m\n\u001b[1;32m   1286\u001b[0m \u001b[43m    \u001b[49m\u001b[43m)\u001b[49m\n\u001b[1;32m   1288\u001b[0m \u001b[38;5;28;01mif\u001b[39;00m observed \u001b[38;5;129;01mis\u001b[39;00m lib\u001b[38;5;241m.\u001b[39mno_default:\n\u001b[1;32m   1289\u001b[0m     \u001b[38;5;28;01mif\u001b[39;00m \u001b[38;5;28many\u001b[39m(ping\u001b[38;5;241m.\u001b[39m_passed_categorical \u001b[38;5;28;01mfor\u001b[39;00m ping \u001b[38;5;129;01min\u001b[39;00m grouper\u001b[38;5;241m.\u001b[39mgroupings):\n",
      "File \u001b[0;32m/opt/conda/lib/python3.11/site-packages/pandas/core/groupby/grouper.py:1009\u001b[0m, in \u001b[0;36mget_grouper\u001b[0;34m(obj, key, axis, level, sort, observed, validate, dropna)\u001b[0m\n\u001b[1;32m   1007\u001b[0m         in_axis, level, gpr \u001b[38;5;241m=\u001b[39m \u001b[38;5;28;01mFalse\u001b[39;00m, gpr, \u001b[38;5;28;01mNone\u001b[39;00m\n\u001b[1;32m   1008\u001b[0m     \u001b[38;5;28;01melse\u001b[39;00m:\n\u001b[0;32m-> 1009\u001b[0m         \u001b[38;5;28;01mraise\u001b[39;00m \u001b[38;5;167;01mKeyError\u001b[39;00m(gpr)\n\u001b[1;32m   1010\u001b[0m \u001b[38;5;28;01melif\u001b[39;00m \u001b[38;5;28misinstance\u001b[39m(gpr, Grouper) \u001b[38;5;129;01mand\u001b[39;00m gpr\u001b[38;5;241m.\u001b[39mkey \u001b[38;5;129;01mis\u001b[39;00m \u001b[38;5;129;01mnot\u001b[39;00m \u001b[38;5;28;01mNone\u001b[39;00m:\n\u001b[1;32m   1011\u001b[0m     \u001b[38;5;66;03m# Add key to exclusions\u001b[39;00m\n\u001b[1;32m   1012\u001b[0m     exclusions\u001b[38;5;241m.\u001b[39madd(gpr\u001b[38;5;241m.\u001b[39mkey)\n",
      "\u001b[0;31mKeyError\u001b[0m: 'GENder'"
     ]
    }
   ],
   "source": [
    "import pandas as pd\n",
    "\n",
    "# Sample dataset with missing values\n",
    "data = {\n",
    "    'CustomerID': [1, 2, 3, 4, 5],\n",
    "    'SatisfactionRating': [5, None, 3, None, 4],\n",
    "    'Gender': ['Male', 'Female', 'Male', 'Female', 'Male']\n",
    "}\n",
    "\n",
    "# Create the DataFrame\n",
    "df = pd.DataFrame(data)  # Use lowercase 'df'\n",
    "\n",
    "# Correct the groupby method syntax and describe satisfaction ratings\n",
    "summary = df.groupby(\"GENder\")[\"SatisfactionRating\"].describe()  # Fixed the method name\n",
    "\n",
    "# Print the summary\n",
    "print(summary)\n"
   ]
  },
  {
   "cell_type": "code",
   "execution_count": 29,
   "id": "eb9a4249",
   "metadata": {},
   "outputs": [
    {
     "name": "stdout",
     "output_type": "stream",
     "text": [
      "        count  mean  std  min  25%  50%  75%  max\n",
      "Gender                                           \n",
      "Female    0.0   NaN  NaN  NaN  NaN  NaN  NaN  NaN\n",
      "Male      3.0   4.0  1.0  3.0  3.5  4.0  4.5  5.0\n"
     ]
    }
   ],
   "source": [
    "import pandas as pd\n",
    "\n",
    "# Sample dataset with missing values\n",
    "data = {\n",
    "    'CustomerID': [1, 2, 3, 4, 5],\n",
    "    'SatisfactionRating': [5, None, 3, None, 4],\n",
    "    'Gender': ['Male', 'Female', 'Male', 'Female', 'Male']\n",
    "}\n",
    "\n",
    "# Create the DataFrame\n",
    "df = pd.DataFrame(data)  # Use lowercase 'df'\n",
    "\n",
    "# Correct the groupby method syntax and describe satisfaction ratings\n",
    "summary = df.groupby(\"Gender\")[\"SatisfactionRating\"].describe()  # Corrected to use the correct column name\n",
    "\n",
    "# Print the summary\n",
    "print(summary)\n"
   ]
  },
  {
   "cell_type": "code",
   "execution_count": null,
   "id": "cca30369",
   "metadata": {},
   "outputs": [],
   "source": [
    "import pandas as pd\n",
    "\n",
    "# Sample dataset with missing values\n",
    "data = {\n",
    "    'CustomerID': [1, 2, 3, 4, 5],\n",
    "    'SatisfactionRating': [5, None, 3, None, 4],\n",
    "    'Gender': ['Male', 'Female', 'Male', 'Female', 'Male']\n",
    "}\n",
    "\n",
    "# Create the DataFrame\n",
    "df = pd.DataFrame(data)  # Use lowercase 'df'\n",
    "\n",
    "# Correct the groupby method syntax and describe satisfaction ratings\n",
    "summary = df.groupby(Gender)[\"SatisfactionRating\"].describe()  # Corrected to use the correct column name\n",
    "\n",
    "# Print the summary\n",
    "print(summary)\n"
   ]
  },
  {
   "cell_type": "code",
   "execution_count": null,
   "id": "c6d14c3e",
   "metadata": {},
   "outputs": [],
   "source": [
    "import pandas as pd\n",
    "\n",
    "# Sample dataset with missing values\n",
    "data = {\n",
    "    'CustomerID': [1, 2, 3, 4, 5],\n",
    "    'SatisfactionRating': [5, None, 3, None, 4],\n",
    "    'Gender': ['Male', 'Female', 'Male', 'Female', 'Male']\n",
    "}\n",
    "\n",
    "# Create the DataFrame\n",
    "df = pd.DataFrame(data)  # Use lowercase 'df'\n",
    "\n",
    "# Correct the groupby method syntax and describe satisfaction ratings\n",
    "summary = df.groupby(\"Gender\")[\"SatisfactionRating\"].describe()  # Use quotes for the column name\n",
    "\n",
    "# Print the summary\n",
    "print(summary)\n"
   ]
  },
  {
   "cell_type": "code",
   "execution_count": null,
   "id": "e212314f",
   "metadata": {},
   "outputs": [],
   "source": [
    "import pandas as pd\n",
    "\n",
    "# Sample dataset with missing values\n",
    "data = {\n",
    "    'CustomerID': [1, 2, 3, 4, 5],\n",
    "    'SatisfactionRating': [5, None, 3, None, 4],\n",
    "    'Gender': ['Male', 'Female', 'Male', 'Female', 'Male']\n",
    "}\n",
    "\n",
    "# Create the DataFrame\n",
    "df = pd.DataFrame(data)  # Use lowercase 'df'\n",
    "\n",
    "# Correct the groupby method syntax and describe satisfaction ratings\n",
    "summary = df.groupby(\"Gender\")[SatisfactionRating].describe()  # Use quotes for the column name\n",
    "\n",
    "# Print the summary\n",
    "print(summary)\n"
   ]
  },
  {
   "cell_type": "code",
   "execution_count": null,
   "id": "4c55b0c9",
   "metadata": {},
   "outputs": [],
   "source": [
    "import pandas as pd\n",
    "\n",
    "# Sample dataset with missing values\n",
    "data = {\n",
    "    'CustomerID': [1, 2, 3, 4, 5],\n",
    "    'SatisfactionRating': [5, None, 3, None, 4],\n",
    "    'Gender': ['Male', 'Female', 'Male', 'Female', 'Male']\n",
    "}\n",
    "\n",
    "# Create the DataFrame\n",
    "df = pd.DataFrame(data)  # Use lowercase 'df'\n",
    "\n",
    "# Correct the groupby method syntax and describe satisfaction ratings\n",
    "summary = df.groupby(\"Gender\")[\"SatisfactionRating\"].describe()  # Fixed to use quotes for the column name\n",
    "\n",
    "# Print the summary\n",
    "print(summary)\n"
   ]
  },
  {
   "cell_type": "markdown",
   "id": "2bcee9e6",
   "metadata": {},
   "source": [
    "YES, I mostly use chatrobot to help me understand the lecture content and HW."
   ]
  },
  {
   "cell_type": "markdown",
   "id": "d1a0f86a",
   "metadata": {},
   "source": [
    "The summarisation of chatrobot:\n",
    "Starting with creation of a dataset, and through pandas to form a DataFrame. Using df.describe() to analyse the dataframe. We talk about using difference of df.dropna() and del df['col']. Also I learn the haw the df.groupby(\"col1\")[\"col2\"].describe() is used in python. Last I tried so many different mistakes that might appear in my code, I request chatrobot to debuged it. And of course it did very good job. Plus we talked about the essential of missing value, how it can be removed and how it affect the data analysis. As shown in the link below.\n",
    "https://chatgpt.com/share/66e3937c-e7bc-8009-9557-7fc2affb82d5"
   ]
  }
 ],
 "metadata": {
  "kernelspec": {
   "display_name": "Python 3 (ipykernel)",
   "language": "python",
   "name": "python3"
  },
  "language_info": {
   "codemirror_mode": {
    "name": "ipython",
    "version": 3
   },
   "file_extension": ".py",
   "mimetype": "text/x-python",
   "name": "python",
   "nbconvert_exporter": "python",
   "pygments_lexer": "ipython3",
   "version": "3.11.6"
  }
 },
 "nbformat": 4,
 "nbformat_minor": 5
}
